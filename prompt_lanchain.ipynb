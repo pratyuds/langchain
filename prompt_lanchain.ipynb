{
 "cells": [
  {
   "cell_type": "code",
   "execution_count": 2,
   "metadata": {},
   "outputs": [],
   "source": [
    "import os\n",
    "from constants import openai_key\n",
    "\n",
    "os.environ[\"OPENAI_API_KEY\"]=openai_key\n"
   ]
  },
  {
   "cell_type": "code",
   "execution_count": 10,
   "metadata": {},
   "outputs": [
    {
     "data": {
      "text/plain": [
       "'I want you to act as a acting financial advisor for people. In an easy way, explin the basics of income tax.'"
      ]
     },
     "execution_count": 10,
     "metadata": {},
     "output_type": "execute_result"
    }
   ],
   "source": [
    "from langchain import PromptTemplate\n",
    "\n",
    "demo_template = '''I want you to act as a acting financial advisor for people. In an easy way, explin the basics of {financial_concept}.'''\n",
    "\n",
    "prompt = PromptTemplate(input_variables=['financial_concept'],\n",
    "               template=demo_template\n",
    "               )\n",
    "\n",
    "prompt.format(financial_concept ='income tax')"
   ]
  },
  {
   "cell_type": "code",
   "execution_count": 15,
   "metadata": {},
   "outputs": [],
   "source": [
    "from langchain.llms import OpenAI\n",
    "from langchain.chains import LLMChain\n",
    "\n",
    "llm=OpenAI(temperature=0.7)\n",
    "chain1 = LLMChain(llm=llm,prompt= prompt)"
   ]
  },
  {
   "cell_type": "code",
   "execution_count": 16,
   "metadata": {},
   "outputs": [
    {
     "data": {
      "text/plain": [
       "'\\n\\nSure, I would be happy to act as your financial advisor and explain the basics of income tax in a simple and easy-to-understand way.\\n\\nIncome tax is a tax levied by the government on the income earned by individuals and businesses. It is a way for the government to generate revenue to fund important public services and programs.\\n\\nThere are different types of income that are subject to tax, such as wages, salaries, interest, dividends, rental income, and profits from business activities. The amount of tax an individual or business owes is based on their taxable income, which is the total amount of income minus any deductions or exemptions.\\n\\nThe government uses a progressive tax system, which means that the more income you earn, the higher the tax rate you will pay. This is designed to ensure that those who earn more pay a larger share of their income in taxes.\\n\\nTo determine how much income tax you owe, you will need to file a tax return with the government. This is a form that reports your income and any deductions or exemptions you are eligible for. The deadline for filing your tax return is typically April 15th of each year in the United States.\\n\\nIn addition to federal income tax, most states also have their own income tax system. The rules and rates may vary'"
      ]
     },
     "execution_count": 16,
     "metadata": {},
     "output_type": "execute_result"
    }
   ],
   "source": [
    "chain1.run('income tax')"
   ]
  },
  {
   "cell_type": "code",
   "execution_count": 17,
   "metadata": {},
   "outputs": [
    {
     "data": {
      "text/plain": [
       "\"\\n\\nSure, I'd be happy to explain the basics of GDP (Gross Domestic Product) for you. GDP is a common measure used to assess the overall health and performance of a country's economy. It represents the total value of all goods and services produced within a country's borders during a specific period of time, typically a year.\\n\\nThe calculation of GDP takes into account four main components: consumer spending, business investments, government spending, and net exports (exports minus imports). Let's break down each component:\\n\\n1. Consumer Spending: This refers to the total amount of money spent by individuals on goods and services, such as food, housing, clothing, and entertainment.\\n\\n2. Business Investments: This includes the amount of money spent by businesses on new equipment, buildings, and other capital goods.\\n\\n3. Government Spending: This represents the total amount of money spent by the government on goods and services, such as infrastructure, education, and defense.\\n\\n4. Net Exports: This refers to the difference between a country's exports (goods and services sold to other countries) and imports (goods and services purchased from other countries). A positive net export means the country is exporting more than it is importing, which contributes to GDP.\\n\\nGDP is an important indicator of a country's\""
      ]
     },
     "execution_count": 17,
     "metadata": {},
     "output_type": "execute_result"
    }
   ],
   "source": [
    "chain1.run('GDP')"
   ]
  },
  {
   "cell_type": "code",
   "execution_count": 18,
   "metadata": {},
   "outputs": [
    {
     "data": {
      "text/plain": [
       "'\\n\\nSure, I would be happy to explain the basics of CGST (Central Goods and Services Tax) to you. CGST is a type of indirect tax that is levied on the supply of goods and services within a state in India. It is a part of the Goods and Services Tax (GST) system that was implemented in India in 2017.\\n\\nCGST is levied by the central government and is applicable on all types of goods and services, except for those that are exempted or are outside the purview of GST. This tax is collected at every stage of the supply chain, from the manufacture or production of goods to their final sale to the end consumer. The rate of CGST is determined by the central government and is currently set at 9%.\\n\\nNow, you may wonder how CGST is different from other types of taxes like VAT (Value Added Tax) or excise duty. Well, the major difference is that under GST, all the indirect taxes have been subsumed into one tax, i.e. GST. This means that CGST replaces the central taxes like excise duty and service tax, while the state taxes like VAT and entertainment tax are replaced by SGST (State Goods and Services Tax). This makes the taxation system more streamlined'"
      ]
     },
     "execution_count": 18,
     "metadata": {},
     "output_type": "execute_result"
    }
   ],
   "source": [
    "chain1.run('CGST')"
   ]
  },
  {
   "cell_type": "code",
   "execution_count": 19,
   "metadata": {},
   "outputs": [
    {
     "data": {
      "text/plain": [
       "'\\n\\nSure, I would be happy to explain the basics of SGST (State Goods and Services Tax) to you. SGST is a type of tax that is levied by the state government on the sale of goods and services within the state. It is a part of the overall GST (Goods and Services Tax) system that was introduced in India in 2017.\\n\\nThe SGST is collected by the state government and is used to fund various state-level development programs and initiatives. It is applicable on both intra-state and inter-state transactions, meaning that it is charged when goods and services are sold within the state as well as when they are sold from one state to another.\\n\\nThe rate of SGST varies from state to state and is determined by the state government. Currently, the SGST rate ranges from 6% to 14.5%, with most states having a rate of 9%. The total tax charged on a transaction consists of both SGST and CGST (Central Goods and Services Tax), which is collected by the central government.\\n\\nIt is important to note that SGST is only applicable to registered businesses with a turnover of more than Rs. 20 lakhs (or Rs. 10 lakhs for special category states). Small businesses with a turnover below'"
      ]
     },
     "execution_count": 19,
     "metadata": {},
     "output_type": "execute_result"
    }
   ],
   "source": [
    "chain1.run('SGST')"
   ]
  },
  {
   "cell_type": "code",
   "execution_count": 20,
   "metadata": {},
   "outputs": [],
   "source": [
    "## Language Translation\n",
    "\n",
    "trans_template='''In an easy way translate the following sentence '{sentence}' into {target_language}'''\n",
    "\n",
    "language_prompt = PromptTemplate(\n",
    "    input_variables = [\"sentence\",\"target_language\"],\n",
    "    template = trans_template,\n",
    ")"
   ]
  },
  {
   "cell_type": "code",
   "execution_count": 21,
   "metadata": {},
   "outputs": [
    {
     "data": {
      "text/plain": [
       "\"In an easy way translate the following sentence 'How are you' into hindhi\""
      ]
     },
     "execution_count": 21,
     "metadata": {},
     "output_type": "execute_result"
    }
   ],
   "source": [
    "language_prompt.format(sentence=\"How are you\",target_language='hindhi')"
   ]
  },
  {
   "cell_type": "code",
   "execution_count": 41,
   "metadata": {},
   "outputs": [
    {
     "data": {
      "text/plain": [
       "{'sentence': 'I want to eat pizza',\n",
       " 'target_language': 'Hindhi',\n",
       " 'text': '\\n\\nमैं पिज़्ज़ा खाना चाहता हूँ |'}"
      ]
     },
     "execution_count": 41,
     "metadata": {},
     "output_type": "execute_result"
    }
   ],
   "source": [
    "chain2 = LLMChain(llm=llm,prompt=language_prompt)\n",
    "chain2({\"sentence\":\"I want to eat pizza\", \"target_language\":\"Hindhi\"})"
   ]
  },
  {
   "cell_type": "code",
   "execution_count": 45,
   "metadata": {},
   "outputs": [
    {
     "data": {
      "text/plain": [
       "{'sentence': 'I want to eat pizza',\n",
       " 'target_language': 'Telugu',\n",
       " 'text': '\\n\\nనేను పిజ్జా తినాలిని (Nenu pizza tinaalini)'}"
      ]
     },
     "execution_count": 45,
     "metadata": {},
     "output_type": "execute_result"
    }
   ],
   "source": [
    "chain2({\"sentence\":\"I want to eat pizza\", \"target_language\":\"Telugu\"})"
   ]
  },
  {
   "cell_type": "code",
   "execution_count": 29,
   "metadata": {},
   "outputs": [],
   "source": [
    "from langchain import FewShotPromptTemplate\n",
    "\n",
    "# First, create the 'PromptTemplate' class for this.\n",
    "\n",
    "examples =[\n",
    "    {\"word\":\"happy\",\"antonym\":\"sad\"},\n",
    "    {\"word\":\"tall\",\"antonym\":\"short\"},\n",
    "]\n",
    "\n",
    "# Next we specify the template to format the examples we have provided.\n",
    "# we use the 'PromptTemplate' class for this.\n",
    "\n",
    "example_formatter_template = \"\"\"Word : {word}\n",
    "Antonym:{antonym}\n",
    "\"\"\"\n",
    "\n",
    "example_prompt = PromptTemplate(input_variables = [\"word\",'antonym'],\n",
    "                                template = example_formatter_template,\n",
    "                                )"
   ]
  },
  {
   "cell_type": "code",
   "execution_count": 30,
   "metadata": {},
   "outputs": [],
   "source": [
    "# Finally , we create the 'FewShotPromptTemplate' object.\n",
    "few_shot_prompt = FewShotPromptTemplate(\n",
    "    # These are the examples we want to insert into the prompt.\n",
    "    examples = examples,\n",
    "    # This is how we want to format the examples when we insert into them into the prompt.\n",
    "    example_prompt=example_prompt,\n",
    "    # The prefix is some text that goes before the examples in the prompt.\n",
    "    # Usually, this consists of instructions.\n",
    "    prefix = \"Give the antonym of every input\\n\",\n",
    "    # The suffix is some text that goes after the examples in the prompt. \n",
    "    # Usually, this is where the user input will go\n",
    "    suffix = \"Word: {input}\\n Antonym: \",\n",
    "    #The input variables are the variables that the overall prompt expects.\n",
    "    input_variables=['input'],\n",
    "    #The example_separator is the string we will use to join the prefix, examples, and suffix together\n",
    "    example_separator =\"\\n\",\n",
    ")"
   ]
  },
  {
   "cell_type": "code",
   "execution_count": 32,
   "metadata": {},
   "outputs": [
    {
     "name": "stdout",
     "output_type": "stream",
     "text": [
      "Give the antonym of every input\n",
      "\n",
      "Word : happy\n",
      "Antonym:sad\n",
      "\n",
      "Word : tall\n",
      "Antonym:short\n",
      "\n",
      "Word: big\n",
      " Antonym: \n"
     ]
    }
   ],
   "source": [
    "print(few_shot_prompt.format(input='big'))"
   ]
  },
  {
   "cell_type": "code",
   "execution_count": 33,
   "metadata": {},
   "outputs": [
    {
     "data": {
      "text/plain": [
       "{'input': 'big', 'text': 'small'}"
      ]
     },
     "execution_count": 33,
     "metadata": {},
     "output_type": "execute_result"
    }
   ],
   "source": [
    "chain = LLMChain(llm=llm,prompt=few_shot_prompt)\n",
    "chain({'input':\"big\"})"
   ]
  },
  {
   "cell_type": "code",
   "execution_count": 40,
   "metadata": {},
   "outputs": [
    {
     "data": {
      "text/plain": [
       "'Good Night'"
      ]
     },
     "execution_count": 40,
     "metadata": {},
     "output_type": "execute_result"
    }
   ],
   "source": [
    "chain.run(\"Good Morning\")"
   ]
  },
  {
   "cell_type": "code",
   "execution_count": null,
   "metadata": {},
   "outputs": [],
   "source": []
  },
  {
   "cell_type": "code",
   "execution_count": null,
   "metadata": {},
   "outputs": [],
   "source": []
  },
  {
   "cell_type": "code",
   "execution_count": null,
   "metadata": {},
   "outputs": [],
   "source": []
  }
 ],
 "metadata": {
  "kernelspec": {
   "display_name": "Python 3",
   "language": "python",
   "name": "python3"
  },
  "language_info": {
   "codemirror_mode": {
    "name": "ipython",
    "version": 3
   },
   "file_extension": ".py",
   "mimetype": "text/x-python",
   "name": "python",
   "nbconvert_exporter": "python",
   "pygments_lexer": "ipython3",
   "version": "3.9.18"
  }
 },
 "nbformat": 4,
 "nbformat_minor": 2
}
